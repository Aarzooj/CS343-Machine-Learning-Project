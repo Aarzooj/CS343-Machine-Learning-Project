{
 "cells": [
  {
   "cell_type": "code",
   "execution_count": 12,
   "metadata": {},
   "outputs": [],
   "source": [
    "import pickle\n",
    "import os\n",
    "import pandas as pd\n",
    "from sklearn.model_selection import train_test_split\n",
    "from sklearn.metrics import mean_squared_error, r2_score, mean_absolute_error\n",
    "import numpy as np\n",
    "from sklearn.decomposition import PCA"
   ]
  },
  {
   "cell_type": "code",
   "execution_count": 2,
   "metadata": {},
   "outputs": [],
   "source": [
    "df = pd.read_csv('./datasets/final_dataset.csv')"
   ]
  },
  {
   "cell_type": "code",
   "execution_count": 3,
   "metadata": {},
   "outputs": [],
   "source": [
    "X=df.drop(['price'],axis=1)\n",
    "y=df['price']"
   ]
  },
  {
   "cell_type": "code",
   "execution_count": 4,
   "metadata": {},
   "outputs": [
    {
     "data": {
      "text/plain": [
       "((208630, 25), (89413, 25), (208630,), (89413,))"
      ]
     },
     "execution_count": 4,
     "metadata": {},
     "output_type": "execute_result"
    }
   ],
   "source": [
    "X_train,X_test,y_train,y_test=train_test_split(X,y,test_size=0.30,random_state=42)\n",
    "X_train.shape,X_test.shape,y_train.shape,y_test.shape"
   ]
  },
  {
   "cell_type": "code",
   "execution_count": 5,
   "metadata": {},
   "outputs": [],
   "source": [
    "def save_model(model, filename):\n",
    "    with open(filename, 'wb') as file:\n",
    "        pickle.dump(model, file)\n",
    "\n",
    "def load_model(filename):\n",
    "    with open(filename, 'rb') as file:\n",
    "        return pickle.load(file)"
   ]
  },
  {
   "cell_type": "code",
   "execution_count": 6,
   "metadata": {},
   "outputs": [],
   "source": [
    "def adjusted_r2_score(r2, n, k):\n",
    "    return 1 - (1 - r2) * (n - 1) / (n - k - 1)"
   ]
  },
  {
   "cell_type": "code",
   "execution_count": 7,
   "metadata": {},
   "outputs": [],
   "source": [
    "def evaluate_metrics(X_train, X_test, y_train_pred, y_test_pred):\n",
    "    n_train, k_train = X_train.shape\n",
    "    n_test, k_test = X_test.shape\n",
    "\n",
    "    # MSE and RMSE\n",
    "    mse_train = mean_squared_error(y_train, y_train_pred)\n",
    "    mse_test = mean_squared_error(y_test, y_test_pred)\n",
    "\n",
    "    rmse_train = np.sqrt(mse_train)\n",
    "    rmse_test = np.sqrt(mse_test)\n",
    "\n",
    "    # R2 and Adjusted R2\n",
    "    r2_train = r2_score(y_train, y_train_pred)\n",
    "    r2_test = r2_score(y_test, y_test_pred)\n",
    "\n",
    "    adj_r2_train = adjusted_r2_score(r2_train, n_train, k_train)\n",
    "    adj_r2_test = adjusted_r2_score(r2_test, n_test, k_test)\n",
    "\n",
    "    # MAE\n",
    "    mae_train = mean_absolute_error(y_train, y_train_pred)\n",
    "    mae_test = mean_absolute_error(y_test, y_test_pred)\n",
    "\n",
    "    # Print results\n",
    "    print(f'Train MSE: {mse_train}, Test MSE: {mse_test}')\n",
    "    print(f'Train RMSE: {rmse_train}, Test RMSE: {rmse_test}')\n",
    "    print(f'Train R2: {r2_train}, Test R2: {r2_test}')\n",
    "    print(f'Train Adjusted R2: {adj_r2_train}, Test Adjusted R2: {adj_r2_test}')\n",
    "    print(f'Train MAE: {mae_train}, Test MAE: {mae_test}')"
   ]
  },
  {
   "cell_type": "code",
   "execution_count": 11,
   "metadata": {},
   "outputs": [
    {
     "name": "stdout",
     "output_type": "stream",
     "text": [
      "Train MSE: 12243257.0714403, Test MSE: 12630506.834383842\n",
      "Train RMSE: 3499.0365918978755, Test RMSE: 3553.9424354347443\n",
      "Train R2: 0.9762985450916396, Test R2: 0.9755727621847804\n",
      "Train Adjusted R2: 0.9762957046074077, Test Adjusted R2: 0.9755659303082729\n",
      "Train MAE: 1970.5494623681268, Test MAE: 2003.4320262517153\n"
     ]
    }
   ],
   "source": [
    "model = load_model('./checkpoint/xgboost_1.pkl')\n",
    "y_pred = model.predict(X_test)\n",
    "y_train_pred = model.predict(X_train)\n",
    "\n",
    "evaluate_metrics(X_train,X_test,y_train_pred,y_pred)"
   ]
  },
  {
   "cell_type": "code",
   "execution_count": 13,
   "metadata": {},
   "outputs": [],
   "source": [
    "n_components = 7\n",
    "pca = PCA(n_components=n_components)\n",
    "\n",
    "X_pca = pca.fit_transform(X)"
   ]
  },
  {
   "cell_type": "code",
   "execution_count": 14,
   "metadata": {},
   "outputs": [
    {
     "data": {
      "text/plain": [
       "((208630, 7), (89413, 7), (208630,), (89413,))"
      ]
     },
     "execution_count": 14,
     "metadata": {},
     "output_type": "execute_result"
    }
   ],
   "source": [
    "X_train,X_test,y_train,y_test=train_test_split(X_pca,y,test_size=0.30,random_state=42)\n",
    "X_train.shape,X_test.shape,y_train.shape,y_test.shape"
   ]
  },
  {
   "cell_type": "code",
   "execution_count": 15,
   "metadata": {},
   "outputs": [
    {
     "name": "stdout",
     "output_type": "stream",
     "text": [
      "Train MSE: 15276383.876703791, Test MSE: 15890663.30826332\n",
      "Train RMSE: 3908.501487361082, Test RMSE: 3986.309484756963\n",
      "Train R2: 0.9704267809208139, Test R2: 0.9692676614832402\n",
      "Train Adjusted R2: 0.9704257886355633, Test Adjusted R2: 0.9692652552825846\n",
      "Train MAE: 2263.5966047445604, Test MAE: 2294.724770404177\n"
     ]
    }
   ],
   "source": [
    "model = load_model('./checkpoint/xgboost_2.pkl')\n",
    "y_pred = model.predict(X_test)\n",
    "y_train_pred = model.predict(X_train)\n",
    "\n",
    "evaluate_metrics(X_train,X_test,y_train_pred,y_pred)"
   ]
  }
 ],
 "metadata": {
  "kernelspec": {
   "display_name": "base",
   "language": "python",
   "name": "python3"
  },
  "language_info": {
   "codemirror_mode": {
    "name": "ipython",
    "version": 3
   },
   "file_extension": ".py",
   "mimetype": "text/x-python",
   "name": "python",
   "nbconvert_exporter": "python",
   "pygments_lexer": "ipython3",
   "version": "3.11.5"
  }
 },
 "nbformat": 4,
 "nbformat_minor": 2
}
